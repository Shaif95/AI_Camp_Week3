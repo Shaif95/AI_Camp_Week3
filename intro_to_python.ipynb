{
  "cells": [
    {
      "cell_type": "markdown",
      "metadata": {
        "id": "view-in-github",
        "colab_type": "text"
      },
      "source": [
        "<a href=\"https://colab.research.google.com/github/Shaif95/AI_Camp_Week3/blob/master/intro_to_python.ipynb\" target=\"_parent\"><img src=\"https://colab.research.google.com/assets/colab-badge.svg\" alt=\"Open In Colab\"/></a>"
      ]
    },
    {
      "cell_type": "markdown",
      "metadata": {
        "collapsed": false,
        "id": "aKiSsflo2D1o"
      },
      "source": [
        "# Python Basics\n",
        "\n"
      ]
    },
    {
      "cell_type": "markdown",
      "metadata": {
        "collapsed": false,
        "id": "f9TyBFri2D1t"
      },
      "source": [
        "The goal of this notebook is to provide students with knowledge of the fundamentals of python. We will take a more interactive approach than most class room settings and ask the students to do some research on their own then bring their learnings back here to share with the class."
      ]
    },
    {
      "cell_type": "markdown",
      "metadata": {
        "collapsed": false,
        "id": "rrQWY-Em2D1u"
      },
      "source": [
        "### Variables"
      ]
    },
    {
      "cell_type": "markdown",
      "metadata": {
        "collapsed": false,
        "id": "XoRvbzrp2D1u"
      },
      "source": [
        "Variables work by assigning a value to a specific word or string of characters. It can be done using the \"=\" sign. This assigns whatever is on the right the string of characters on the left. We'll go ahead and try assigning a few variables in the next block."
      ]
    },
    {
      "cell_type": "code",
      "execution_count": 21,
      "metadata": {
        "id": "oiUyroo-2D1v",
        "outputId": "4e7f35b0-138f-42c4-e544-cdf3bb292bce",
        "colab": {
          "base_uri": "https://localhost:8080/"
        }
      },
      "outputs": [
        {
          "output_type": "execute_result",
          "data": {
            "text/plain": [
              "10"
            ]
          },
          "metadata": {},
          "execution_count": 21
        }
      ],
      "source": [
        "Shaif = 10 # This is a comment\n",
        "b = 20\n",
        "c = 3\n",
        "Shaif # when you put a variable by itself, its value will be printed (This is a comment - anything after a # on the same line will be ignored)"
      ]
    },
    {
      "cell_type": "markdown",
      "metadata": {
        "collapsed": false,
        "id": "kRLgN3l42D1x"
      },
      "source": [
        "We can also perform basic algebra to these variables and save the output to a new variable"
      ]
    },
    {
      "cell_type": "code",
      "execution_count": 9,
      "metadata": {
        "id": "LmFcwL6x2D1y",
        "outputId": "76a44e8d-7c6e-4d52-c1a3-48f2ed512d5b",
        "colab": {
          "base_uri": "https://localhost:8080/"
        }
      },
      "outputs": [
        {
          "output_type": "execute_result",
          "data": {
            "text/plain": [
              "30"
            ]
          },
          "metadata": {},
          "execution_count": 9
        }
      ],
      "source": [
        "d = a + b\n",
        "d"
      ]
    },
    {
      "cell_type": "code",
      "execution_count": 10,
      "metadata": {
        "id": "KHaLHnhA2D1y",
        "outputId": "9149fe3e-83f7-4806-c1bb-9119383b6466",
        "colab": {
          "base_uri": "https://localhost:8080/"
        }
      },
      "outputs": [
        {
          "output_type": "execute_result",
          "data": {
            "text/plain": [
              "-7"
            ]
          },
          "metadata": {},
          "execution_count": 10
        }
      ],
      "source": [
        "e = c - a\n",
        "e"
      ]
    },
    {
      "cell_type": "code",
      "execution_count": 11,
      "metadata": {
        "id": "97aNJogj2D1z",
        "outputId": "009d8239-68a6-4525-c3a7-d22b6591da05",
        "colab": {
          "base_uri": "https://localhost:8080/"
        }
      },
      "outputs": [
        {
          "output_type": "execute_result",
          "data": {
            "text/plain": [
              "60"
            ]
          },
          "metadata": {},
          "execution_count": 11
        }
      ],
      "source": [
        "f = b * c\n",
        "f"
      ]
    },
    {
      "cell_type": "code",
      "execution_count": 12,
      "metadata": {
        "id": "FddzZKIf2D10",
        "outputId": "1d69890f-40c4-4110-9c64-8c3fcd02d2b4",
        "colab": {
          "base_uri": "https://localhost:8080/"
        }
      },
      "outputs": [
        {
          "output_type": "execute_result",
          "data": {
            "text/plain": [
              "0.5"
            ]
          },
          "metadata": {},
          "execution_count": 12
        }
      ],
      "source": [
        "g = a / b\n",
        "g"
      ]
    },
    {
      "cell_type": "code",
      "source": [
        "a = 18\n",
        "b = 4\n",
        "c = a/b\n",
        "c"
      ],
      "metadata": {
        "colab": {
          "base_uri": "https://localhost:8080/"
        },
        "id": "yFlNHb2pPQnr",
        "outputId": "c3a834f7-510f-46e1-f370-cd58d6c77020"
      },
      "execution_count": 18,
      "outputs": [
        {
          "output_type": "execute_result",
          "data": {
            "text/plain": [
              "4.5"
            ]
          },
          "metadata": {},
          "execution_count": 18
        }
      ]
    },
    {
      "cell_type": "markdown",
      "metadata": {
        "collapsed": false,
        "id": "PGxdfFLA2D10"
      },
      "source": [
        "Sometimes we want to update the value of one variable, so we can do this"
      ]
    },
    {
      "cell_type": "code",
      "execution_count": 19,
      "metadata": {
        "id": "4KL7Ar4N2D11",
        "outputId": "889129d5-2200-457e-acbb-108f178bf0d9",
        "colab": {
          "base_uri": "https://localhost:8080/"
        }
      },
      "outputs": [
        {
          "output_type": "execute_result",
          "data": {
            "text/plain": [
              "1.0"
            ]
          },
          "metadata": {},
          "execution_count": 19
        }
      ],
      "source": [
        "g = g*2 # the same thing works for /, +, and -\n",
        "g"
      ]
    },
    {
      "cell_type": "markdown",
      "metadata": {
        "collapsed": false,
        "id": "0Yjn6yQj2D11"
      },
      "source": [
        "This can get quite annoying with longer variable names, so we can do the following"
      ]
    },
    {
      "cell_type": "code",
      "execution_count": 20,
      "metadata": {
        "id": "vxEEAuMQ2D11",
        "outputId": "e4e23d1c-a838-4dfc-f727-2b591426035e",
        "colab": {
          "base_uri": "https://localhost:8080/"
        }
      },
      "outputs": [
        {
          "output_type": "execute_result",
          "data": {
            "text/plain": [
              "30.0"
            ]
          },
          "metadata": {},
          "execution_count": 20
        }
      ],
      "source": [
        "f/=2 # there is also +=, -=, and *=\n",
        "f"
      ]
    },
    {
      "cell_type": "markdown",
      "metadata": {
        "collapsed": false,
        "id": "-SokCka12D12"
      },
      "source": [
        "There are tons of different types of variables we can make. For this next section, we will ask the students to go out and figure out how to create the following types of variable: strings, floats and booleans. Once you have created these variables, try the same operations we used above and see what they do."
      ]
    },
    {
      "cell_type": "code",
      "source": [
        "st = \"Shaif\" # String Var\n",
        "st1 = 10    # Integer\n",
        "st2 = 2.2   #Float\n",
        "st3 = False   # Boolean\n",
        "st = 's'   # Char\n",
        "\n"
      ],
      "metadata": {
        "id": "kU2qZtDQQIEZ"
      },
      "execution_count": null,
      "outputs": []
    },
    {
      "cell_type": "markdown",
      "metadata": {
        "collapsed": false,
        "id": "wrm0nzU22D12"
      },
      "source": [
        "Create a few string variables here, then try to add them together, subtract them, multiply them and divide them to see what happens. You may get an error, and thats okay. Its important to know what can and can't be done with a type of data."
      ]
    },
    {
      "cell_type": "code",
      "execution_count": 30,
      "metadata": {
        "id": "TpT4oxrw2D12",
        "colab": {
          "base_uri": "https://localhost:8080/",
          "height": 35
        },
        "outputId": "28b56b3b-e000-4ce8-d829-7b9e7663f2b1"
      },
      "outputs": [
        {
          "output_type": "execute_result",
          "data": {
            "text/plain": [
              "'12'"
            ],
            "application/vnd.google.colaboratory.intrinsic+json": {
              "type": "string"
            }
          },
          "metadata": {},
          "execution_count": 30
        }
      ],
      "source": [
        "a= 1\n",
        "b= 2\n",
        "c= str(a) + str(b)\n",
        "\n",
        "c #St can't be added together like algebra?"
      ]
    },
    {
      "cell_type": "markdown",
      "metadata": {
        "collapsed": false,
        "id": "H_mQAOsc2D12"
      },
      "source": [
        "Create a few float variables here, then try to add them together, subtract them, multiply them and divide them to see what happens. You may get an error, and thats okay. Its important to know what can and can't be done with a type of data."
      ]
    },
    {
      "cell_type": "code",
      "execution_count": 32,
      "metadata": {
        "id": "53D7Y_Fl2D13",
        "colab": {
          "base_uri": "https://localhost:8080/"
        },
        "outputId": "e60997d6-0658-4b32-9ae3-30da0b2e1fc7"
      },
      "outputs": [
        {
          "output_type": "execute_result",
          "data": {
            "text/plain": [
              "3.9"
            ]
          },
          "metadata": {},
          "execution_count": 32
        }
      ],
      "source": [
        "a = 2.5\n",
        "b = 1.4\n",
        "c = a +b\n",
        "c"
      ]
    },
    {
      "cell_type": "markdown",
      "metadata": {
        "collapsed": false,
        "id": "3pJJvhBm2D13"
      },
      "source": [
        "Create a few boolean variables here, then try to add them together, subtract them, multiply them and divide them to see what happens. You may get an error, and thats okay. Its important to know what can and can't be done with a type of data."
      ]
    },
    {
      "cell_type": "code",
      "execution_count": 37,
      "metadata": {
        "id": "yX5Kz3ar2D13",
        "colab": {
          "base_uri": "https://localhost:8080/"
        },
        "outputId": "38c83593-209b-44b8-e30e-3092ca1315f8"
      },
      "outputs": [
        {
          "output_type": "execute_result",
          "data": {
            "text/plain": [
              "1"
            ]
          },
          "metadata": {},
          "execution_count": 37
        }
      ],
      "source": [
        "a = True   # 1\n",
        "b = False  # 0\n",
        "c = a * b\n",
        "c"
      ]
    },
    {
      "cell_type": "markdown",
      "metadata": {
        "collapsed": false,
        "id": "3XP3ZznC2D13"
      },
      "source": [
        "### Lists\n",
        "\n"
      ]
    },
    {
      "cell_type": "markdown",
      "metadata": {
        "collapsed": false,
        "id": "XdGckKor2D13"
      },
      "source": [
        "Lists work similarly to the variables we created above but store multiple values. We'll cover the three types metioned above then ask the students to try and create their own versions of them."
      ]
    },
    {
      "cell_type": "markdown",
      "metadata": {
        "collapsed": false,
        "id": "yf1MNcF92D14"
      },
      "source": [
        "First up, lists. you can create a list with the following code."
      ]
    },
    {
      "cell_type": "code",
      "execution_count": 51,
      "metadata": {
        "id": "zWA0lLNJ2D14",
        "colab": {
          "base_uri": "https://localhost:8080/"
        },
        "outputId": "3b2ea4ee-3d20-4682-a42c-606cee8357b7"
      },
      "outputs": [
        {
          "output_type": "execute_result",
          "data": {
            "text/plain": [
              "[1, 2, 3, 4, 'Name', True]"
            ]
          },
          "metadata": {},
          "execution_count": 51
        }
      ],
      "source": [
        "my_list = [ 1, 2, 3, 4, \"Name\", True ]\n",
        "my_list"
      ]
    },
    {
      "cell_type": "markdown",
      "metadata": {
        "collapsed": false,
        "id": "c2R41sy92D14"
      },
      "source": [
        "To access a specific item from the list, you would do the following."
      ]
    },
    {
      "cell_type": "code",
      "execution_count": 48,
      "metadata": {
        "id": "4ADFqOTY2D14",
        "outputId": "4612c6fb-ba98-4d17-f2f4-f63af43603c2",
        "colab": {
          "base_uri": "https://localhost:8080/"
        }
      },
      "outputs": [
        {
          "output_type": "execute_result",
          "data": {
            "text/plain": [
              "True"
            ]
          },
          "metadata": {},
          "execution_count": 48
        }
      ],
      "source": [
        "my_list[5] # List index starts from 0"
      ]
    },
    {
      "cell_type": "markdown",
      "metadata": {
        "collapsed": false,
        "id": "S8DnPNuk2D15"
      },
      "source": [
        "The first element in the list is at index 0, then the second element is at index 1 and so on.\n",
        "\n"
      ]
    },
    {
      "cell_type": "code",
      "execution_count": 49,
      "metadata": {
        "id": "rmlSWc5w2D15",
        "outputId": "6ed07b2a-313d-499e-c74f-a1ade1e47cd4",
        "colab": {
          "base_uri": "https://localhost:8080/"
        }
      },
      "outputs": [
        {
          "output_type": "stream",
          "name": "stdout",
          "text": [
            "1 2 3 4 Name\n"
          ]
        }
      ],
      "source": [
        "print(my_list[0], my_list[1], my_list[2], my_list[3], my_list[4])"
      ]
    },
    {
      "cell_type": "markdown",
      "metadata": {
        "collapsed": false,
        "id": "swcwLxgw2D15"
      },
      "source": [
        "**TODO:** Now its your turn. We will have students create their own version of this data type.\n"
      ]
    },
    {
      "cell_type": "markdown",
      "metadata": {
        "collapsed": false,
        "id": "__srdDcp2D15"
      },
      "source": [
        "Below, create a list of your favorite colors.\n"
      ]
    },
    {
      "cell_type": "code",
      "execution_count": 73,
      "metadata": {
        "id": "vuOm_H5_2D16",
        "colab": {
          "base_uri": "https://localhost:8080/"
        },
        "outputId": "05a56190-1eeb-42c4-c155-3a990bfe728e"
      },
      "outputs": [
        {
          "output_type": "execute_result",
          "data": {
            "text/plain": [
              "['blue', 'blue']"
            ]
          },
          "metadata": {},
          "execution_count": 73
        }
      ],
      "source": [
        "#create a list of your favorite colors\n",
        "fc = [ \"red\" ,  \"blue\" ]   # List\n",
        "\n",
        "fc 2 = (\"red\", \"blue\")    # Tuple : Immutable\n",
        "fc[0] = \"blue\"\n",
        "fc"
      ]
    },
    {
      "cell_type": "markdown",
      "metadata": {
        "collapsed": false,
        "id": "XRXZRROf2D16"
      },
      "source": [
        "Now figure out how to `append()` an item to your list. Maybe google: \"how to append an item to a list python\"\n"
      ]
    },
    {
      "cell_type": "code",
      "execution_count": 74,
      "metadata": {
        "id": "52Pn4g7b2D16",
        "colab": {
          "base_uri": "https://localhost:8080/"
        },
        "outputId": "628bbff3-8d60-4562-9731-7df7c7b4933f"
      },
      "outputs": [
        {
          "output_type": "execute_result",
          "data": {
            "text/plain": [
              "['blue', 'blue', 'yellow']"
            ]
          },
          "metadata": {},
          "execution_count": 74
        }
      ],
      "source": [
        "# append another color to the list of your favorite colors\n",
        "fc.append(\"yellow\")\n",
        "fc\n"
      ]
    },
    {
      "cell_type": "markdown",
      "metadata": {
        "collapsed": false,
        "id": "ExQUiBWz2D16"
      },
      "source": [
        "### For loops, while loops, and if statements\n",
        "\n"
      ]
    },
    {
      "cell_type": "markdown",
      "metadata": {
        "collapsed": false,
        "id": "-ajnxwlx2D16"
      },
      "source": [
        "We will learn more about for loops throughout this whole week. For now, we will use them to go through a list and print out each element."
      ]
    },
    {
      "cell_type": "code",
      "execution_count": 105,
      "metadata": {
        "id": "GeBitwQU2D17",
        "outputId": "dd72141f-b68f-40fa-a3f1-1f040f995e11",
        "colab": {
          "base_uri": "https://localhost:8080/"
        }
      },
      "outputs": [
        {
          "output_type": "stream",
          "name": "stdout",
          "text": [
            "Two tabs\n",
            "Hello\n",
            "Two tabs\n",
            "Hello\n",
            "Two tabs\n",
            "Hello\n",
            "Two tabs\n",
            "Hello\n",
            "Two tabs\n",
            "Hello\n",
            "End\n"
          ]
        }
      ],
      "source": [
        "my_list = [1,2,3,7,9]\n",
        "\n",
        "for i in my_list:\n",
        "    print(\"Two tabs\")\n",
        "    print(\"Hello\")\n",
        "\n",
        "print(\"End\")\n",
        "\n"
      ]
    },
    {
      "cell_type": "markdown",
      "metadata": {
        "collapsed": false,
        "id": "vVo8oxCL2D17"
      },
      "source": [
        "Next, we will look at how to make a list run a specific number of times."
      ]
    },
    {
      "cell_type": "code",
      "execution_count": 97,
      "metadata": {
        "id": "p_oKmG8x2D17",
        "outputId": "c37cdb37-0247-4352-d1e9-3052d0908b68",
        "colab": {
          "base_uri": "https://localhost:8080/"
        }
      },
      "outputs": [
        {
          "output_type": "stream",
          "name": "stdout",
          "text": [
            "Hello\n",
            "1\n",
            "Hello\n",
            "2\n",
            "Hello\n",
            "3\n",
            "Hello\n",
            "4\n"
          ]
        }
      ],
      "source": [
        "for i in range(1,5): # range functions the same here as the list [0,1,2,3,4]\n",
        "    print('Hello')\n",
        "    a = i\n",
        "    print(a)"
      ]
    },
    {
      "cell_type": "markdown",
      "metadata": {
        "collapsed": false,
        "id": "xUQMuNMM2D2A"
      },
      "source": [
        "Next, we'll take a look at while loops. In general, you can make a while loop do anything that a for loop can do but with slightly different syntax, so if you find youself understanding while loops better than for loops, you can just focus on using while loops."
      ]
    },
    {
      "cell_type": "markdown",
      "metadata": {
        "collapsed": false,
        "id": "YvQxF6562D2A"
      },
      "source": [
        "In the block below, we will make a while loop that runs 5 times. For while loops, we can't specify how long they will run for ahead of time so its important for us to create an achievable exit condition. An exit condition is just the condition that will cause the code to stop running. This is checked every time, immediatly before the code runs or reruns. We want to make sure that this condition will eventually happen, otherwise the code will run until something crashes or we manually close it"
      ]
    },
    {
      "cell_type": "code",
      "execution_count": 98,
      "metadata": {
        "id": "cUGmb4762D2B",
        "outputId": "3ef9acc2-03ab-43e1-8c22-c4fcea5c0328",
        "colab": {
          "base_uri": "https://localhost:8080/"
        }
      },
      "outputs": [
        {
          "output_type": "stream",
          "name": "stdout",
          "text": [
            "Hello World\n",
            "2\n",
            "Hello World\n",
            "3\n",
            "Hello World\n",
            "4\n"
          ]
        }
      ],
      "source": [
        "i = 2\n",
        "\n",
        "while i < 5:\n",
        "    print(\"Hello World\")\n",
        "    print(i)\n",
        "    i = i + 1"
      ]
    },
    {
      "cell_type": "markdown",
      "metadata": {
        "collapsed": false,
        "id": "3RlKZDI72D2B"
      },
      "source": [
        "Now for if statements. The if-elif-else statement is used to conditionally execute a statement or a block of statements. Conditions can be true or false, execute one thing when the condition is true, something else when the condition is false."
      ]
    },
    {
      "cell_type": "code",
      "execution_count": 111,
      "metadata": {
        "id": "8O9_2Gr92D2B",
        "colab": {
          "base_uri": "https://localhost:8080/"
        },
        "outputId": "8c0f6cd6-c29a-416d-c180-e11dc3d159ce"
      },
      "outputs": [
        {
          "output_type": "stream",
          "name": "stdout",
          "text": [
            "a is greater than b\n"
          ]
        }
      ],
      "source": [
        "a = 0\n",
        "b = 2\n",
        "\n",
        "if (a < b):\n",
        "    print(\"a is greater than b\")"
      ]
    },
    {
      "cell_type": "markdown",
      "metadata": {
        "collapsed": false,
        "id": "x0KDwyiD2D2B"
      },
      "source": [
        "We can add else statements to the above. An else statement is what will be run if the original statement is false."
      ]
    },
    {
      "cell_type": "code",
      "execution_count": 115,
      "metadata": {
        "id": "g57dYyJ52D2C",
        "outputId": "ddddd5bf-2cd6-4e49-c497-3b1f314133dd",
        "colab": {
          "base_uri": "https://localhost:8080/"
        }
      },
      "outputs": [
        {
          "output_type": "stream",
          "name": "stdout",
          "text": [
            "a is greater than b\n"
          ]
        }
      ],
      "source": [
        "a = 5\n",
        "b = 2\n",
        "\n",
        "if a > b:\n",
        "    print(\"a is greater than b\")\n",
        "else:\n",
        "    print(\"b is greater than a\")"
      ]
    },
    {
      "cell_type": "markdown",
      "metadata": {
        "collapsed": false,
        "id": "QHB8RqB02D2C"
      },
      "source": [
        "Additionally, we can use elif statements to add additional conditions to the structure."
      ]
    },
    {
      "cell_type": "code",
      "execution_count": 118,
      "metadata": {
        "id": "1XCPghKU2D2C",
        "outputId": "85c285e8-2033-4676-c0de-2a1ab1717ce9",
        "colab": {
          "base_uri": "https://localhost:8080/"
        }
      },
      "outputs": [
        {
          "output_type": "stream",
          "name": "stdout",
          "text": [
            "b is greater than a\n"
          ]
        }
      ],
      "source": [
        "a = 1\n",
        "b = 5\n",
        "\n",
        "if a > b:\n",
        "    print(\"a is greater than b\")\n",
        "\n",
        "elif a == b:  # else-if as many as we want\n",
        "    print(\"a equals b\")\n",
        "\n",
        "else:   #else\n",
        "    print(\"b is greater than a\")"
      ]
    },
    {
      "cell_type": "markdown",
      "metadata": {
        "collapsed": false,
        "id": "V9ziW74P2D2D"
      },
      "source": [
        "Now its your turn. Either break up into 3 teams and have each team solve one of the blocks or solve them all together."
      ]
    },
    {
      "cell_type": "markdown",
      "metadata": {
        "collapsed": false,
        "id": "wvjug1ue2D2D"
      },
      "source": [
        "In the next block, create a for loop that counts from 0 to 10 and prints out each number. Additionally, if the number is less than 3, print out \"This is a small number\"."
      ]
    },
    {
      "cell_type": "code",
      "execution_count": 120,
      "metadata": {
        "id": "7T4I2sLr2D2D",
        "colab": {
          "base_uri": "https://localhost:8080/"
        },
        "outputId": "fe21e97e-b40a-4888-ddfc-3e894cd31de5"
      },
      "outputs": [
        {
          "output_type": "stream",
          "name": "stdout",
          "text": [
            "0\n",
            "This is a small number\n",
            "1\n",
            "This is a small number\n",
            "2\n",
            "This is a small number\n",
            "3\n",
            "4\n",
            "5\n",
            "6\n",
            "7\n",
            "8\n",
            "9\n"
          ]
        }
      ],
      "source": [
        "# for loop that counts from 0 to 10 -- check out the for loop that uses the range() function above.\n",
        "for i in range(0,10):\n",
        "    print(i)\n",
        "    if i<3:\n",
        "     print(\"This is a small number\")"
      ]
    },
    {
      "cell_type": "markdown",
      "source": [],
      "metadata": {
        "id": "xZdWuTGhaCdC"
      }
    },
    {
      "cell_type": "markdown",
      "metadata": {
        "collapsed": false,
        "id": "Grk-THiX2D2D"
      },
      "source": [
        "In the next block, create a while loop that prints out all of the even numbers between 1 and 10. Additionally, if the number is between 5 and 9, print the number out a second time."
      ]
    },
    {
      "cell_type": "code",
      "source": [
        "i = 0\n",
        "for i in range(0,10,2):\n",
        "  print(i)\n",
        "  if (i > 5) and (i < 9):\n",
        "    print(i)\n",
        ""
      ],
      "metadata": {
        "colab": {
          "base_uri": "https://localhost:8080/"
        },
        "id": "issevLYOsAxG",
        "outputId": "cf4c1f58-ca8d-4e81-de6c-9909e42dfe33"
      },
      "execution_count": 132,
      "outputs": [
        {
          "output_type": "stream",
          "name": "stdout",
          "text": [
            "0\n",
            "2\n",
            "4\n",
            "6\n",
            "6\n",
            "8\n",
            "8\n"
          ]
        }
      ]
    },
    {
      "cell_type": "code",
      "execution_count": null,
      "metadata": {
        "id": "jsANe6662D2E"
      },
      "outputs": [],
      "source": []
    },
    {
      "cell_type": "markdown",
      "metadata": {
        "collapsed": false,
        "id": "8DI9wLAO2D2E"
      },
      "source": [
        "In the next block, ask the user to input 3 items and add them all to a list. Then. create a loop that prints out each item that the user entered."
      ]
    },
    {
      "cell_type": "code",
      "execution_count": null,
      "metadata": {
        "id": "u1h77ckJ2D2E"
      },
      "outputs": [],
      "source": []
    },
    {
      "cell_type": "markdown",
      "metadata": {
        "collapsed": false,
        "id": "JomERl882D2E"
      },
      "source": [
        "### Functions"
      ]
    },
    {
      "cell_type": "markdown",
      "metadata": {
        "collapsed": false,
        "id": "YYaIEVf72D2F"
      },
      "source": [
        "Functions act like variables but instead of storing a value, they store lines of code. Below we can see how a function is created and used."
      ]
    },
    {
      "cell_type": "code",
      "execution_count": 135,
      "metadata": {
        "id": "JEnrCvhK2D2F"
      },
      "outputs": [],
      "source": [
        "def my_first_function():  #def to define a function\n",
        "    print(\"hell\")\n",
        "    print(\"Hey again\")\n",
        "    print('Hello world')"
      ]
    },
    {
      "cell_type": "code",
      "source": [
        "my_first_function()"
      ],
      "metadata": {
        "colab": {
          "base_uri": "https://localhost:8080/"
        },
        "id": "N-mrScFHuUjY",
        "outputId": "f98a2fa0-80bc-4d7c-d286-932016f72eba"
      },
      "execution_count": 137,
      "outputs": [
        {
          "output_type": "stream",
          "name": "stdout",
          "text": [
            "hell\n",
            "Hey again\n",
            "Hello world\n"
          ]
        }
      ]
    },
    {
      "cell_type": "code",
      "execution_count": 136,
      "metadata": {
        "id": "1OYJKSbG2D2G",
        "outputId": "73cc5527-90ac-4bd9-9958-c9af2fd7664c",
        "colab": {
          "base_uri": "https://localhost:8080/"
        }
      },
      "outputs": [
        {
          "output_type": "stream",
          "name": "stdout",
          "text": [
            "hell\n",
            "Hey again\n",
            "Hello world\n"
          ]
        }
      ],
      "source": [
        "my_first_function()"
      ]
    },
    {
      "cell_type": "markdown",
      "metadata": {
        "collapsed": false,
        "id": "yFATpJNC2D2G"
      },
      "source": [
        "Whenever the computer sees the function being used, it automatically runs the code stored inside of that function."
      ]
    },
    {
      "cell_type": "code",
      "source": [],
      "metadata": {
        "id": "tnT_yMS7ucCc"
      },
      "execution_count": null,
      "outputs": []
    },
    {
      "cell_type": "markdown",
      "metadata": {
        "collapsed": false,
        "id": "eBQA5l762D2H"
      },
      "source": [
        "Additionally, functions can take in one or multiple values to use in their code, as we can see below."
      ]
    },
    {
      "cell_type": "code",
      "execution_count": 140,
      "metadata": {
        "id": "HnrC-XEi2D2H"
      },
      "outputs": [],
      "source": [
        "def add_numbers(a, b, c):  #parameters\n",
        "    total = a + b\n",
        "    print(total)"
      ]
    },
    {
      "cell_type": "code",
      "execution_count": 141,
      "metadata": {
        "id": "cXhMSaG92D2H",
        "outputId": "13ed665b-fda9-43fb-bd10-378f950b09ab",
        "colab": {
          "base_uri": "https://localhost:8080/"
        }
      },
      "outputs": [
        {
          "output_type": "stream",
          "name": "stdout",
          "text": [
            "3\n"
          ]
        }
      ],
      "source": [
        "add_numbers(1, 2, 3)  # Arguments"
      ]
    },
    {
      "cell_type": "markdown",
      "metadata": {
        "collapsed": false,
        "id": "4p8J7cW02D2I"
      },
      "source": [
        "Finnally, functions can have a \"return\" statement. This is what the function sends back to the place it was called. You can think of functions like black boxes where the parameters in the parentheses are the input and the return statement is the output. This output can be saved to a variable to be used later. We will redefine the add_numbers function from above using a return statement to show this off."
      ]
    },
    {
      "cell_type": "code",
      "execution_count": 143,
      "metadata": {
        "id": "Ub3rdPJB2D2I"
      },
      "outputs": [],
      "source": [
        "def add_numbers(a, b, c):\n",
        "    total = a + b + c\n",
        "    return total"
      ]
    },
    {
      "cell_type": "code",
      "execution_count": 144,
      "metadata": {
        "id": "nfhn-Vi32D2I",
        "outputId": "a17bc395-8621-48f3-d30d-a74197f4039a",
        "colab": {
          "base_uri": "https://localhost:8080/"
        }
      },
      "outputs": [
        {
          "output_type": "execute_result",
          "data": {
            "text/plain": [
              "6"
            ]
          },
          "metadata": {},
          "execution_count": 144
        }
      ],
      "source": [
        "out = add_numbers(1, 2, 3)\n",
        "out"
      ]
    },
    {
      "cell_type": "markdown",
      "metadata": {
        "collapsed": false,
        "id": "XeSfoWh52D2I"
      },
      "source": [
        "Now its your turn! You can either work on each of the following challenges in teams of 2 or walk through each one as a group. In any case, it is recommended to look at them at a high level together so that everyone understands the concepts in each section."
      ]
    },
    {
      "cell_type": "markdown",
      "metadata": {
        "collapsed": false,
        "id": "u53X_abS2D2J"
      },
      "source": [
        "In the block below, create a function that takes in 2 numbers and returns True if the product of the numbers is positive and False in all other cases."
      ]
    },
    {
      "cell_type": "code",
      "execution_count": 146,
      "metadata": {
        "id": "Z0Hqk5YP2D2J",
        "colab": {
          "base_uri": "https://localhost:8080/"
        },
        "outputId": "7ba2903e-09b6-4e8e-adcd-e8aad7bf79a5"
      },
      "outputs": [
        {
          "output_type": "stream",
          "name": "stdout",
          "text": [
            "True\n",
            "False\n",
            "True\n"
          ]
        }
      ],
      "source": [
        "def is_product_positive(num1, num2):\n",
        "    product = num1 * num2\n",
        "    if product > 0:\n",
        "        return True\n",
        "    else:\n",
        "        return False\n",
        "\n",
        "result = is_product_positive(5, 6)\n",
        "print(result)  # Output: True\n",
        "\n",
        "result = is_product_positive(-3, 4)\n",
        "print(result)  # Output: False\n",
        "\n",
        "result = is_product_positive(-2, -9)\n",
        "print(result)  # Output: True"
      ]
    },
    {
      "cell_type": "markdown",
      "metadata": {
        "collapsed": false,
        "id": "Gz0wT-PK2D2J"
      },
      "source": [
        "In the block below, create a function that takes in a string and returns the string in reverse order. For example, if the input was \"Hello\" the output should be \"olleH\""
      ]
    },
    {
      "cell_type": "code",
      "execution_count": null,
      "metadata": {
        "id": "59g2Vqdk2D2K"
      },
      "outputs": [],
      "source": []
    },
    {
      "cell_type": "markdown",
      "metadata": {
        "collapsed": false,
        "id": "fBbC6I0A2D2K"
      },
      "source": [
        "In the block below, create a function that takes in a list and prints out each element 1 at a time. For example, if the input was ['Dog', 'Cat', 'Hamster'], the output should be\n",
        "\n",
        "Dog\n",
        "\n",
        "Cat\n",
        "\n",
        "Hamster"
      ]
    },
    {
      "cell_type": "code",
      "execution_count": null,
      "metadata": {
        "id": "jwo2UIVE2D2K"
      },
      "outputs": [],
      "source": []
    },
    {
      "cell_type": "markdown",
      "metadata": {
        "collapsed": false,
        "id": "atpu9n3h2D2K"
      },
      "source": [
        "# Modules \\(Pandas and numpy\\)\n",
        "\n",
        "### Why are there Pandas in Python? What is numpy?\n",
        "\n",
        "In the following section we will be covering modules. Above, we leaned about functions and the power that they have. Modules let us use functions that other people have created to solve problems that we commonly encounter \\-\\- you can think of this as standing on the shoulders of giants by being just lazy enough to want to write code over and over again.\n",
        "\n",
        "For example, if we find that we frequently have to get a random number, instead of coding that entire process every time, you could just import a function that either you or someone else created in the past. Basically, modules and importing lets us have access to the work of many other coders, making it a very powerful tool.\n"
      ]
    },
    {
      "cell_type": "markdown",
      "metadata": {
        "collapsed": false,
        "id": "1CW9sMEY2D2L"
      },
      "source": [
        "### Numpy \\- For Scientific Computing in Python\n",
        "\n",
        "Below, we will import the numpy module and use a few of its functions to show off this power. Numpy is a library which is coded outside of python, making it faster. It gives us access to better and more efficient lists\n",
        "\n",
        "For any module you encounter, you should be prepared to <u>read the docs.</u> The \"docs\" are how we can learn to use each module, and you can find Numpy's here: [https://numpy.org/. ](https://numpy.org/)\n",
        "\n",
        "**For using modules, you'll want to import them like so below.**\n",
        "\n"
      ]
    },
    {
      "cell_type": "code",
      "execution_count": null,
      "metadata": {
        "id": "QpwdZb7y2D2L"
      },
      "outputs": [],
      "source": [
        "import numpy as np #we rename numpy to np so we don't have to type 5 letters every time."
      ]
    },
    {
      "cell_type": "markdown",
      "metadata": {
        "collapsed": false,
        "id": "d2HiWt4u2D2L"
      },
      "source": [
        "With Numpy, we can make a list of zeros like this:\n"
      ]
    },
    {
      "cell_type": "code",
      "execution_count": null,
      "metadata": {
        "id": "Wg_R1R8p2D2L",
        "outputId": "d3a945c8-56b5-41cc-ea63-5869d95d6d9f"
      },
      "outputs": [
        {
          "data": {
            "text/plain": [
              "array([[0., 0., 0.],\n",
              "       [0., 0., 0.]])"
            ]
          },
          "execution_count": 8,
          "metadata": {},
          "output_type": "execute_result"
        }
      ],
      "source": [
        "my_array = np.zeros((2,3)) # (2,3) is the shape of the array\n",
        "my_array"
      ]
    },
    {
      "cell_type": "markdown",
      "metadata": {
        "collapsed": false,
        "id": "WYS3rYQC2D2M"
      },
      "source": [
        "Or a list of random decimal numbers like this:"
      ]
    },
    {
      "cell_type": "code",
      "execution_count": null,
      "metadata": {
        "id": "Lw-_fnPG2D2M",
        "outputId": "e706d6e7-339c-428b-8aef-7c969344e2dc"
      },
      "outputs": [
        {
          "data": {
            "text/plain": [
              "array([[0.51419005, 0.54441936],\n",
              "       [0.85278788, 0.61982656],\n",
              "       [0.59807822, 0.61977816]])"
            ]
          },
          "execution_count": 9,
          "metadata": {},
          "output_type": "execute_result"
        }
      ],
      "source": [
        "np.random.rand(3,2) # we don't need to put the shape in braces this time"
      ]
    },
    {
      "cell_type": "markdown",
      "metadata": {
        "collapsed": false,
        "id": "SyD8kX5B2D2M"
      },
      "source": [
        "Just like regular variables, we can do operations on this list"
      ]
    },
    {
      "cell_type": "code",
      "execution_count": null,
      "metadata": {
        "id": "Mp2cgBJT2D2M",
        "outputId": "f28170ec-9172-4538-b3d5-12370f6deee2"
      },
      "outputs": [
        {
          "name": "stdout",
          "output_type": "stream",
          "text": [
            "[[1. 1. 1.]\n",
            " [1. 1. 1.]]\n",
            "[[2. 2. 2.]\n",
            " [2. 2. 2.]]\n"
          ]
        }
      ],
      "source": [
        "my_array2 = my_array + 1\n",
        "my_array3 = my_array2 * 2\n",
        "print(my_array2)\n",
        "print(my_array3)"
      ]
    },
    {
      "cell_type": "markdown",
      "metadata": {
        "collapsed": false,
        "id": "QOpDYoHc2D2N"
      },
      "source": [
        "**TODO:** Make an array from my\\_array of all \\-3's:\n",
        "\n"
      ]
    },
    {
      "cell_type": "code",
      "execution_count": null,
      "metadata": {
        "id": "aBUgos4s2D2N"
      },
      "outputs": [],
      "source": [
        "#make an array of all -3's\n"
      ]
    },
    {
      "cell_type": "code",
      "execution_count": null,
      "metadata": {
        "id": "I-iHekrK2D2N"
      },
      "outputs": [],
      "source": []
    },
    {
      "cell_type": "markdown",
      "metadata": {
        "collapsed": false,
        "id": "qdCXChRm2D2O"
      },
      "source": [
        "### Pandas \\- A Data Scientist's Best Friend\n",
        "\n",
        "With numpy briefly explored above, we will now check out a little bit about pandas. Pandas is an awesome module that helps us deal with large amounts of data in an easy to understand way. Below we will look at some of its many functions\n",
        "\n",
        "First, we'll have to import it. It is common practice to \\`import pandas as pd\\` but you are free to import it as you see fit.\n"
      ]
    },
    {
      "cell_type": "code",
      "execution_count": null,
      "metadata": {
        "id": "BuvME9F02D2O"
      },
      "outputs": [],
      "source": [
        "import pandas as pd"
      ]
    },
    {
      "cell_type": "markdown",
      "metadata": {
        "collapsed": false,
        "id": "0omvvD3U2D2O"
      },
      "source": [
        "Pandas works with objects called **DataFrames**. Not sure what that is? Read the docs: [https://pandas.pydata.org/docs/reference/api/pandas.DataFrame.html.](https://pandas.pydata.org/docs/reference/api/pandas.DataFrame.html)\n",
        "\n",
        "Or you can simply look below.\n"
      ]
    },
    {
      "cell_type": "code",
      "execution_count": null,
      "metadata": {
        "id": "3fU9BDjG2D2O",
        "outputId": "b3b2171c-a0fa-43ab-8cd5-604d720e4875"
      },
      "outputs": [
        {
          "data": {
            "text/html": [
              "<div>\n",
              "<style scoped>\n",
              "    .dataframe tbody tr th:only-of-type {\n",
              "        vertical-align: middle;\n",
              "    }\n",
              "\n",
              "    .dataframe tbody tr th {\n",
              "        vertical-align: top;\n",
              "    }\n",
              "\n",
              "    .dataframe thead th {\n",
              "        text-align: right;\n",
              "    }\n",
              "</style>\n",
              "<table border=\"1\" class=\"dataframe\">\n",
              "  <thead>\n",
              "    <tr style=\"text-align: right;\">\n",
              "      <th></th>\n",
              "      <th>A</th>\n",
              "      <th>B</th>\n",
              "      <th>C</th>\n",
              "    </tr>\n",
              "  </thead>\n",
              "  <tbody>\n",
              "    <tr>\n",
              "      <th>0</th>\n",
              "      <td>1</td>\n",
              "      <td>4</td>\n",
              "      <td>7</td>\n",
              "    </tr>\n",
              "    <tr>\n",
              "      <th>1</th>\n",
              "      <td>2</td>\n",
              "      <td>5</td>\n",
              "      <td>8</td>\n",
              "    </tr>\n",
              "    <tr>\n",
              "      <th>2</th>\n",
              "      <td>3</td>\n",
              "      <td>6</td>\n",
              "      <td>9</td>\n",
              "    </tr>\n",
              "  </tbody>\n",
              "</table>\n",
              "</div>"
            ],
            "text/plain": [
              "   A  B  C\n",
              "0  1  4  7\n",
              "1  2  5  8\n",
              "2  3  6  9"
            ]
          },
          "execution_count": 34,
          "metadata": {},
          "output_type": "execute_result"
        }
      ],
      "source": [
        "data = pd.DataFrame({'A': [1, 2, 3], 'B': [4, 5, 6], 'C': [7, 8, 9]})\n",
        "data"
      ]
    },
    {
      "cell_type": "markdown",
      "metadata": {
        "collapsed": false,
        "id": "a9L4VToO2D2P"
      },
      "source": [
        "Our dataframe is pretty small so it's easy to show the whole thing in the output, but for larger dataframes it is important to only show a few of the rows so we don't have to scroll all over. To do this, we can use the df.head\\(x\\) function to show the first x rows of the dataframe or tail\\(x\\) to show the last x number of rows\n"
      ]
    },
    {
      "cell_type": "code",
      "execution_count": null,
      "metadata": {
        "id": "iyNQh86l2D2P",
        "outputId": "2e7140f2-cd67-48fd-e38e-b788bbba51cd"
      },
      "outputs": [
        {
          "data": {
            "text/html": [
              "<div>\n",
              "<style scoped>\n",
              "    .dataframe tbody tr th:only-of-type {\n",
              "        vertical-align: middle;\n",
              "    }\n",
              "\n",
              "    .dataframe tbody tr th {\n",
              "        vertical-align: top;\n",
              "    }\n",
              "\n",
              "    .dataframe thead th {\n",
              "        text-align: right;\n",
              "    }\n",
              "</style>\n",
              "<table border=\"1\" class=\"dataframe\">\n",
              "  <thead>\n",
              "    <tr style=\"text-align: right;\">\n",
              "      <th></th>\n",
              "      <th>A</th>\n",
              "      <th>B</th>\n",
              "      <th>C</th>\n",
              "    </tr>\n",
              "  </thead>\n",
              "  <tbody>\n",
              "    <tr>\n",
              "      <th>0</th>\n",
              "      <td>1</td>\n",
              "      <td>4</td>\n",
              "      <td>7</td>\n",
              "    </tr>\n",
              "    <tr>\n",
              "      <th>1</th>\n",
              "      <td>2</td>\n",
              "      <td>5</td>\n",
              "      <td>8</td>\n",
              "    </tr>\n",
              "  </tbody>\n",
              "</table>\n",
              "</div>"
            ],
            "text/plain": [
              "   A  B  C\n",
              "0  1  4  7\n",
              "1  2  5  8"
            ]
          },
          "execution_count": 35,
          "metadata": {},
          "output_type": "execute_result"
        }
      ],
      "source": [
        "data.head(2)"
      ]
    },
    {
      "cell_type": "code",
      "execution_count": null,
      "metadata": {
        "id": "D3kzReHY2D2P",
        "outputId": "30a788c7-1ab2-4219-8cef-b7887485c9b5"
      },
      "outputs": [
        {
          "data": {
            "text/html": [
              "<div>\n",
              "<style scoped>\n",
              "    .dataframe tbody tr th:only-of-type {\n",
              "        vertical-align: middle;\n",
              "    }\n",
              "\n",
              "    .dataframe tbody tr th {\n",
              "        vertical-align: top;\n",
              "    }\n",
              "\n",
              "    .dataframe thead th {\n",
              "        text-align: right;\n",
              "    }\n",
              "</style>\n",
              "<table border=\"1\" class=\"dataframe\">\n",
              "  <thead>\n",
              "    <tr style=\"text-align: right;\">\n",
              "      <th></th>\n",
              "      <th>A</th>\n",
              "      <th>B</th>\n",
              "      <th>C</th>\n",
              "    </tr>\n",
              "  </thead>\n",
              "  <tbody>\n",
              "    <tr>\n",
              "      <th>2</th>\n",
              "      <td>3</td>\n",
              "      <td>6</td>\n",
              "      <td>9</td>\n",
              "    </tr>\n",
              "  </tbody>\n",
              "</table>\n",
              "</div>"
            ],
            "text/plain": [
              "   A  B  C\n",
              "2  3  6  9"
            ]
          },
          "execution_count": 36,
          "metadata": {},
          "output_type": "execute_result"
        }
      ],
      "source": [
        "data.tail(1)"
      ]
    },
    {
      "cell_type": "markdown",
      "metadata": {
        "collapsed": false,
        "id": "vufPCm9M2D2P"
      },
      "source": [
        "Alternatively you can look at just 1 row at a time by calling it similarly to a dictionary\n"
      ]
    },
    {
      "cell_type": "code",
      "execution_count": null,
      "metadata": {
        "id": "h4ynMf8h2D2Q",
        "outputId": "c3a9886d-8c88-4d97-8bfb-0c448101bf1b"
      },
      "outputs": [
        {
          "data": {
            "text/plain": [
              "0    1\n",
              "1    2\n",
              "2    3\n",
              "Name: A, dtype: int64"
            ]
          },
          "execution_count": 37,
          "metadata": {},
          "output_type": "execute_result"
        }
      ],
      "source": [
        "data['A']"
      ]
    },
    {
      "cell_type": "markdown",
      "metadata": {
        "collapsed": false,
        "id": "IZBXu1W02D2Q"
      },
      "source": [
        "You can also get various details about the dataframe with the following functions.\n"
      ]
    },
    {
      "cell_type": "code",
      "execution_count": null,
      "metadata": {
        "id": "K8dDqKEq2D2Q",
        "outputId": "ad12b2b0-7616-4285-b190-8652b98c6184"
      },
      "outputs": [
        {
          "data": {
            "text/plain": [
              "Index(['A', 'B', 'C'], dtype='object')"
            ]
          },
          "execution_count": 38,
          "metadata": {},
          "output_type": "execute_result"
        }
      ],
      "source": [
        "# Gives you the names of all of the columns\n",
        "data.columns"
      ]
    },
    {
      "cell_type": "code",
      "execution_count": null,
      "metadata": {
        "id": "zp5I5p6j2D2Q",
        "outputId": "e2fd188c-d1b6-4b1d-fdb1-d3d864a5e80d"
      },
      "outputs": [
        {
          "data": {
            "text/html": [
              "<div>\n",
              "<style scoped>\n",
              "    .dataframe tbody tr th:only-of-type {\n",
              "        vertical-align: middle;\n",
              "    }\n",
              "\n",
              "    .dataframe tbody tr th {\n",
              "        vertical-align: top;\n",
              "    }\n",
              "\n",
              "    .dataframe thead th {\n",
              "        text-align: right;\n",
              "    }\n",
              "</style>\n",
              "<table border=\"1\" class=\"dataframe\">\n",
              "  <thead>\n",
              "    <tr style=\"text-align: right;\">\n",
              "      <th></th>\n",
              "      <th>A</th>\n",
              "      <th>B</th>\n",
              "      <th>C</th>\n",
              "    </tr>\n",
              "  </thead>\n",
              "  <tbody>\n",
              "    <tr>\n",
              "      <th>count</th>\n",
              "      <td>3.0</td>\n",
              "      <td>3.0</td>\n",
              "      <td>3.0</td>\n",
              "    </tr>\n",
              "    <tr>\n",
              "      <th>mean</th>\n",
              "      <td>2.0</td>\n",
              "      <td>5.0</td>\n",
              "      <td>8.0</td>\n",
              "    </tr>\n",
              "    <tr>\n",
              "      <th>std</th>\n",
              "      <td>1.0</td>\n",
              "      <td>1.0</td>\n",
              "      <td>1.0</td>\n",
              "    </tr>\n",
              "    <tr>\n",
              "      <th>min</th>\n",
              "      <td>1.0</td>\n",
              "      <td>4.0</td>\n",
              "      <td>7.0</td>\n",
              "    </tr>\n",
              "    <tr>\n",
              "      <th>25%</th>\n",
              "      <td>1.5</td>\n",
              "      <td>4.5</td>\n",
              "      <td>7.5</td>\n",
              "    </tr>\n",
              "    <tr>\n",
              "      <th>50%</th>\n",
              "      <td>2.0</td>\n",
              "      <td>5.0</td>\n",
              "      <td>8.0</td>\n",
              "    </tr>\n",
              "    <tr>\n",
              "      <th>75%</th>\n",
              "      <td>2.5</td>\n",
              "      <td>5.5</td>\n",
              "      <td>8.5</td>\n",
              "    </tr>\n",
              "    <tr>\n",
              "      <th>max</th>\n",
              "      <td>3.0</td>\n",
              "      <td>6.0</td>\n",
              "      <td>9.0</td>\n",
              "    </tr>\n",
              "  </tbody>\n",
              "</table>\n",
              "</div>"
            ],
            "text/plain": [
              "         A    B    C\n",
              "count  3.0  3.0  3.0\n",
              "mean   2.0  5.0  8.0\n",
              "std    1.0  1.0  1.0\n",
              "min    1.0  4.0  7.0\n",
              "25%    1.5  4.5  7.5\n",
              "50%    2.0  5.0  8.0\n",
              "75%    2.5  5.5  8.5\n",
              "max    3.0  6.0  9.0"
            ]
          },
          "execution_count": 39,
          "metadata": {},
          "output_type": "execute_result"
        }
      ],
      "source": [
        "# Gives you the names of all the columns, the number of rows in that column and a brief description of the values stored in those columns\n",
        "data.describe()"
      ]
    },
    {
      "cell_type": "code",
      "execution_count": null,
      "metadata": {
        "id": "zPlDy2JI2D2R",
        "outputId": "cecd6092-2f5d-4da7-fa42-e380bd0aa11d"
      },
      "outputs": [
        {
          "name": "stdout",
          "output_type": "stream",
          "text": [
            "<class 'pandas.core.frame.DataFrame'>\n",
            "RangeIndex: 3 entries, 0 to 2\n",
            "Data columns (total 3 columns):\n",
            " #   Column  Non-Null Count  Dtype\n",
            "---  ------  --------------  -----\n",
            " 0   A       3 non-null      int64\n",
            " 1   B       3 non-null      int64\n",
            " 2   C       3 non-null      int64\n",
            "dtypes: int64(3)\n",
            "memory usage: 200.0 bytes\n"
          ]
        }
      ],
      "source": [
        "# Tells you more about what is stored in those columns\n",
        "data.info()"
      ]
    },
    {
      "cell_type": "markdown",
      "metadata": {
        "collapsed": false,
        "id": "zmLTpvjF2D2R"
      },
      "source": [
        "**Next we will check out iterating through a dataframe.**\n"
      ]
    },
    {
      "cell_type": "code",
      "execution_count": null,
      "metadata": {
        "id": "YHeYnkXI2D2R",
        "outputId": "618e6534-a0d4-4fa5-f414-316fd85a6835"
      },
      "outputs": [
        {
          "name": "stdout",
          "output_type": "stream",
          "text": [
            "1\n",
            "2\n",
            "3\n"
          ]
        }
      ],
      "source": [
        "# Going through a row 1 value at a time\n",
        "for i in data['A']:\n",
        "    print(i)"
      ]
    },
    {
      "cell_type": "code",
      "execution_count": null,
      "metadata": {
        "id": "B45ZHZDV2D2S",
        "outputId": "cd252c2c-f048-4e48-950f-a2d7854d9089"
      },
      "outputs": [
        {
          "name": "stdout",
          "output_type": "stream",
          "text": [
            "--------------------------------------------------\n",
            "1\n",
            "2\n",
            "3\n",
            "4\n",
            "5\n",
            "6\n",
            "7\n",
            "8\n",
            "9\n",
            "--------------------------------------------------\n"
          ]
        }
      ],
      "source": [
        "# going through the entire dataframe 1 value at a time\n",
        "print(50*\"-\")\n",
        "for col_name in data.columns:\n",
        "    for value in data[col_name]:\n",
        "        print(value)\n",
        "print(50*\"-\")"
      ]
    }
  ],
  "metadata": {
    "kernelspec": {
      "display_name": "Python 3.9.12 ('base')",
      "language": "python",
      "name": "python3"
    },
    "language_info": {
      "codemirror_mode": {
        "name": "ipython",
        "version": 3
      },
      "file_extension": ".py",
      "mimetype": "text/x-python",
      "name": "python",
      "nbconvert_exporter": "python",
      "pygments_lexer": "ipython3",
      "version": "3.9.12"
    },
    "orig_nbformat": 4,
    "vscode": {
      "interpreter": {
        "hash": "335ee12212264728feb72f243af72c5a8ea26c832f07e1f651ce9e17c7ceae23"
      }
    },
    "colab": {
      "provenance": [],
      "include_colab_link": true
    }
  },
  "nbformat": 4,
  "nbformat_minor": 0
}